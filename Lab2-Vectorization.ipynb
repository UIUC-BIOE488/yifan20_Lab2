{
 "cells": [
  {
   "cell_type": "markdown",
   "metadata": {},
   "source": [
    "# Vectorization in Python"
   ]
  },
  {
   "cell_type": "code",
   "execution_count": null,
   "metadata": {},
   "outputs": [],
   "source": [
    "## Need to install numba, after install restart kernel\n",
    "!pip install numba"
   ]
  },
  {
   "cell_type": "code",
   "execution_count": null,
   "metadata": {
    "tags": []
   },
   "outputs": [],
   "source": [
    "import numpy as np\n",
    "import time\n",
    "from timeit import Timer"
   ]
  },
  {
   "cell_type": "code",
   "execution_count": null,
   "metadata": {},
   "outputs": [],
   "source": [
    "np.__version__"
   ]
  },
  {
   "cell_type": "code",
   "execution_count": null,
   "metadata": {
    "tags": []
   },
   "outputs": [],
   "source": [
    "my_list = [53, 1, 16, 66, 56, 36, 99, 36, 90, 13]\n",
    "\n",
    "result = []\n",
    "for number in my_list:\n",
    "    result.append(number * 2 + 1)\n",
    "\n",
    "\n",
    "print(result)"
   ]
  },
  {
   "cell_type": "markdown",
   "metadata": {},
   "source": [
    "Above is the simpliest way to multiply every number in a list by 2 and then plus 1: the for loop. At this point, you should be very familiar with the for loop. You can use it to iterate over items in a list or to count to a specific number. The abstraction of a for loop is iteration: applying the same computation repeatedly with some variable values."
   ]
  },
  {
   "cell_type": "code",
   "execution_count": null,
   "metadata": {
    "tags": []
   },
   "outputs": [],
   "source": [
    "for i in range(10):\n",
    "\n",
    "    my_number = 3 % (i + 1) + i / 2\n",
    "    print(my_number)"
   ]
  },
  {
   "cell_type": "markdown",
   "metadata": {},
   "source": [
    "While it is simple to understand, iteration might not be the most efficient model for repeating computation in some cases. Iteration is serialized: the CPU processes the iterations one after the other. In some cases where the calculation of an item depends on the result of calculation of previous items, the wait is necessary. However, in other cases, like the one in the first cell, the computation in each iteration is independent."
   ]
  },
  {
   "cell_type": "markdown",
   "metadata": {},
   "source": [
    "## Vectorization"
   ]
  },
  {
   "cell_type": "markdown",
   "metadata": {},
   "source": [
    "Vectorization is the abstraction of applying the same instructions to multiple data entries. Because applying the same instruction on multiple data entries is such a common pattern, modern computers are highly optimized for this operation from low-level hardware (CPU architecture and memory) to high-level programming language (e.g. Python, Numpy). When writing a for loop, we are restricting the potential of these optimizations by forcing these repeated computations to be performed one by one, serialized in time.\n",
    "\n",
    "![Vectorization](./resources/vectorization.png)\n",
    "\n",
    "\n",
    "In compiled language like C, the compiler can often detect the unnecessary serialization and compile a for loop into vectorized machine code. Python, however, is a dynamically interpreted language, and such compiler optimizations are unfeasible."
   ]
  },
  {
   "cell_type": "markdown",
   "metadata": {},
   "source": [
    "Numpy arrays are optimized for vectorized calculations: let's see the performance difference in action:"
   ]
  },
  {
   "cell_type": "markdown",
   "metadata": {},
   "source": [
    "### Example - Adding a constant value to every element of array"
   ]
  },
  {
   "cell_type": "code",
   "execution_count": null,
   "metadata": {
    "tags": []
   },
   "outputs": [],
   "source": [
    "import numpy as np\n",
    " \n",
    "# Creating a large array of size 10**6\n",
    "array = np.random.randint(1000, size=10**6)\n",
    " \n",
    "# method that adds elements using for loop\n",
    "def add_forloop():\n",
    "    new_array = [element + 1 for element in array]\n",
    "\n",
    "# method that adds elements using vectorization\n",
    "def add_vectorized():\n",
    "    new_array = array + 1\n",
    "    \n",
    "# Finding execution time using timeit\n",
    "computation_time_forloop = Timer(add_forloop).timeit(1)\n",
    "computation_time_vectorized = Timer(add_vectorized).timeit(1)\n",
    " \n",
    "print(\"Computation time is %0.9f using for-loop\" % computation_time_forloop)\n",
    "print(\"Computation time is %0.9f using vectorization\" % computation_time_vectorized)"
   ]
  },
  {
   "cell_type": "markdown",
   "metadata": {},
   "source": [
    "### Another example"
   ]
  },
  {
   "cell_type": "code",
   "execution_count": null,
   "metadata": {
    "tags": []
   },
   "outputs": [],
   "source": [
    "import numpy as np\n",
    "import time\n",
    "\n",
    "# Using Python lists\n",
    "def list_addition(a, b):\n",
    "    return [a_i + b_i for a_i, b_i in zip(a, b)]\n",
    "\n",
    "# Using NumPy\n",
    "def numpy_addition(a, b):\n",
    "    return a + b\n",
    "\n",
    "a = [i for i in range(1000000)]\n",
    "b = [i for i in range(1000000)]\n",
    "\n",
    "# Convert lists to NumPy arrays\n",
    "a_np = np.array(a)\n",
    "b_np = np.array(b)\n",
    "\n",
    "# Measure performance\n",
    "start_time = time.time()\n",
    "list_addition(a, b)\n",
    "print(\"--- List Addition %s seconds ---\" % (time.time() - start_time))\n",
    "\n",
    "start_time = time.time()\n",
    "numpy_addition(a_np, b_np)\n",
    "print(\"--- NumPy Addition %s seconds ---\" % (time.time() - start_time))"
   ]
  },
  {
   "cell_type": "markdown",
   "metadata": {},
   "source": [
    "### Example - Computing a dot product of two vectors"
   ]
  },
  {
   "cell_type": "code",
   "execution_count": null,
   "metadata": {
    "tags": []
   },
   "outputs": [],
   "source": [
    "import numpy as np\n",
    "from timeit import Timer\n",
    "\n",
    "# Create 2 vectors of same length\n",
    "length = 100000\n",
    "vector1 = np.random.randint(1000, size=length)\n",
    "vector2 = np.random.randint(1000, size=length)\n",
    "\n",
    "# Finds dot product of vectors using for loop\n",
    "def dotproduct_forloop(vector1, vector2, length):\n",
    "    dot = 0.0\n",
    "    for i in range(length):\n",
    "        dot += vector1[i] * vector2[i]\n",
    "    return dot\n",
    "        \n",
    "# Finds dot product of vectors using numpy vectorization\n",
    "def dotproduct_vectorize(vector1, vector2):\n",
    "    dot = np.dot(vector1, vector2)\n",
    "    return dot\n",
    "\n",
    "# Finding execution time using timeit - lambda needed for wrapping function\n",
    "# https://stackoverflow.com/questions/54135771/timeit-valueerror-stmt-is-neither-a-string-nor-callable\n",
    "time_forloop = Timer(lambda: dotproduct_forloop(vector1, vector2, length)).timeit(1)\n",
    "time_vectorize = Timer(lambda: dotproduct_vectorize(vector1, vector2)).timeit(1)\n",
    "\n",
    "print(\"Finding dot product takes %0.9f units using for loop\" % time_forloop)\n",
    "print(\"Finding dot product takes %0.9f units using vectorization\" % time_vectorize)"
   ]
  },
  {
   "cell_type": "markdown",
   "metadata": {},
   "source": [
    "### **Task**: Compute matrix multiplication"
   ]
  },
  {
   "cell_type": "code",
   "execution_count": null,
   "metadata": {
    "tags": []
   },
   "outputs": [],
   "source": [
    "A = np.random.rand(50,50)\n",
    "B = np.random.rand(50,50)\n",
    "\n",
    "# sanity check code using identity matrix\n",
    "# A = np.eye(50)\n",
    "# B = np.eye(50)\n",
    "\n",
    "length = 50\n",
    "\n",
    "# hint: dot products written above are useful!\n",
    "def matrixmultiply_forloop(A, B):\n",
    "    C = ...\n",
    "    return C\n",
    "\n",
    "def matrixmultiply_vectorize(A, B):\n",
    "    A = np.array(A)\n",
    "    B = np.array(B)\n",
    "    C = np.matmul(A,B)\n",
    "    print(\"vectorized result\", np.diag(C))\n",
    "    return C\n",
    "\n",
    "# Finding execution time using timeit\n",
    "time_forloop = Timer(lambda: matrixmultiply_forloop(A, B)).timeit(1)\n",
    "time_vectorize = Timer(lambda: matrixmultiply_vectorize(A, B)).timeit(1)\n",
    "\n",
    "print(\"Matrix multiplication takes %0.9f units using for loop\" % time_forloop)\n",
    "print(\"Matrix multiplication takes %0.9f units using vectorization\" % time_vectorize)"
   ]
  },
  {
   "cell_type": "markdown",
   "metadata": {},
   "source": [
    "### Example - Count the number of elements less than K in the array"
   ]
  },
  {
   "cell_type": "code",
   "execution_count": null,
   "metadata": {
    "tags": []
   },
   "outputs": [],
   "source": [
    "# trying changing the scale of X to make the difference due to vectorization more apparent\n",
    "# X = np.arange(20)\n",
    "X = np.arange(2000)\n",
    "# X = np.arange(200000)\n",
    "\n",
    "def lessthank_forloop(k=10):\n",
    "    count = 0\n",
    "    for i in range(len(X)):\n",
    "        if X[i] < k:\n",
    "            count = count + 1\n",
    "    print(\"for loop result\", count)\n",
    "    return count\n",
    "\n",
    "def lessthank_vectorize(k=10):\n",
    "    num_lessthan_k = np.count_nonzero((X < k))\n",
    "    print(\"vectorized result\", num_lessthan_k)\n",
    "    return num_lessthan_k\n",
    "\n",
    "# Finding execution time using timeit\n",
    "time_forloop = Timer(lessthank_forloop).timeit(1)\n",
    "time_vectorize = Timer(lessthank_vectorize).timeit(1)\n",
    "\n",
    "print(\"Finding < k takes %0.9f units using for loop\" % time_forloop)\n",
    "print(\"Finding < k takes %0.9f units using vectorization\" % time_vectorize)"
   ]
  },
  {
   "cell_type": "markdown",
   "metadata": {},
   "source": [
    "### Example, vectorize using numba JIT compiler"
   ]
  },
  {
   "cell_type": "code",
   "execution_count": null,
   "metadata": {
    "tags": []
   },
   "outputs": [],
   "source": [
    "## Simple loop\n",
    "def sum_of_squares(n=1e7):\n",
    "    total = 0\n",
    "    for i in range(int(n)):\n",
    "        total += i**2\n",
    "    return total"
   ]
  },
  {
   "cell_type": "code",
   "execution_count": null,
   "metadata": {
    "tags": []
   },
   "outputs": [],
   "source": [
    "from numba import jit\n",
    "\n",
    "@jit(nopython=True)\n",
    "def sum_of_squares_numba(n=1e7):\n",
    "    total = 0\n",
    "    for i in range(int(n)):\n",
    "        total += i**2\n",
    "    return total"
   ]
  },
  {
   "cell_type": "code",
   "execution_count": null,
   "metadata": {
    "tags": []
   },
   "outputs": [],
   "source": [
    "# Finding execution time using timeit\n",
    "time_forloop = Timer(sum_of_squares).timeit(1)\n",
    "time_vectorize = Timer(sum_of_squares_numba).timeit(1)\n",
    "\n",
    "print(\"Without Numba: {}\".format(time_forloop))\n",
    "print(\"With Numba: {}\".format(time_vectorize))"
   ]
  },
  {
   "cell_type": "markdown",
   "metadata": {},
   "source": [
    "# How do we vectorize a function if the computation we want is more complicated and not already available in numpy? Use Numba @vectorize decorators!"
   ]
  },
  {
   "cell_type": "markdown",
   "metadata": {},
   "source": [
    "## But first: What are python \"decorators\"?"
   ]
  },
  {
   "cell_type": "markdown",
   "metadata": {},
   "source": [
    "A decorator is a function that takes another function and extends the behavior of the latter function without explicitly modifying it."
   ]
  },
  {
   "cell_type": "markdown",
   "metadata": {},
   "source": [
    "Example - smart_divide() decorator function checks whether the inputs to divide() are safe or not"
   ]
  },
  {
   "cell_type": "code",
   "execution_count": null,
   "metadata": {
    "tags": []
   },
   "outputs": [],
   "source": [
    "def smart_divide(func):\n",
    "    def inner(a,b):\n",
    "        print(\"Inside decorator: I am going to divide {} and {}\".format(a,b))\n",
    "        if b == 0:\n",
    "            print(\"Inside decorator: Whoops! cannot divide by 0. Aborting\")\n",
    "            return\n",
    "        return func(a,b)\n",
    "    return inner"
   ]
  },
  {
   "cell_type": "code",
   "execution_count": null,
   "metadata": {
    "tags": []
   },
   "outputs": [],
   "source": [
    "@smart_divide\n",
    "def divide_dec(a,b):\n",
    "    print(\"a/b = {}\".format(a/b))\n",
    "\n",
    "def divide(a,b):\n",
    "    print(\"a/b = {}\".format(a/b))"
   ]
  },
  {
   "cell_type": "code",
   "execution_count": null,
   "metadata": {
    "tags": []
   },
   "outputs": [],
   "source": [
    "# If we run divide undecorated\n",
    "divide(5,2)"
   ]
  },
  {
   "cell_type": "code",
   "execution_count": null,
   "metadata": {
    "tags": []
   },
   "outputs": [],
   "source": [
    "# divide by 0\n",
    "divide(5,0)"
   ]
  },
  {
   "cell_type": "code",
   "execution_count": null,
   "metadata": {
    "tags": []
   },
   "outputs": [],
   "source": [
    "# Using decoratored function\n",
    "divide_dec(5,2)"
   ]
  },
  {
   "cell_type": "code",
   "execution_count": null,
   "metadata": {
    "tags": []
   },
   "outputs": [],
   "source": [
    "# Using decoratored function, try divide by 0\n",
    "divide_dec(5,0)"
   ]
  },
  {
   "cell_type": "markdown",
   "metadata": {},
   "source": [
    "Source: https://www.programiz.com/python-programming/decorator"
   ]
  },
  {
   "cell_type": "markdown",
   "metadata": {},
   "source": [
    "We need the inner(a,b) function inside smart_divide() since decorators must output a callable rather than a value. The idea of a decorator is to return a function you can call as needed, with enhanced functionality."
   ]
  },
  {
   "cell_type": "markdown",
   "metadata": {},
   "source": [
    "## **Task**: Decorator that times the execution of a function"
   ]
  },
  {
   "cell_type": "code",
   "execution_count": null,
   "metadata": {
    "tags": []
   },
   "outputs": [],
   "source": [
    "## Complete the folliwing\n",
    "import time\n",
    "\n",
    "def timer(func):\n",
    "    def wrapper_timer():\n",
    "        ...\n",
    "    return wrapper_timer\n",
    "\n",
    "@timer\n",
    "def waste_some_time():\n",
    "    for _ in range(100):\n",
    "        sum([i**2 for i in range(10000)])\n"
   ]
  },
  {
   "cell_type": "code",
   "execution_count": null,
   "metadata": {
    "tags": []
   },
   "outputs": [],
   "source": [
    "waste_some_time()"
   ]
  },
  {
   "cell_type": "markdown",
   "metadata": {},
   "source": [
    "## Numba @vectorize decorator - specify the element-wise operation and let Numba handle the vectorization\n",
    "\n",
    "Read [this numba @vectorize decorator tutorial](https://numba.readthedocs.io/en/stable/user/vectorize.html)"
   ]
  },
  {
   "cell_type": "markdown",
   "metadata": {},
   "source": [
    "### In essence: ...Using vectorize(), you write your function as operating over input scalars, rather than arrays. Numba will generate the surrounding loop (or kernel) allowing efficient iteration over the actual inputs...."
   ]
  },
  {
   "cell_type": "markdown",
   "metadata": {},
   "source": [
    "Let's say the computation our imaginary problem at hand needs is as follows:"
   ]
  },
  {
   "cell_type": "code",
   "execution_count": null,
   "metadata": {
    "tags": []
   },
   "outputs": [],
   "source": [
    "from numba import vectorize, float32, float64\n",
    "\n",
    "@vectorize([float32(float32, float32),\n",
    "            float64(float64, float64)])\n",
    "def f(x, y):\n",
    "    if x < 10:\n",
    "        return 2*np.log(y)\n",
    "    else:\n",
    "        return np.sqrt(1 + x*10)\n",
    "\n",
    "A = np.random.rand(30)\n",
    "B = np.random.rand(30)\n",
    "\n",
    "time_vectorize = Timer(lambda: f(A, B)).timeit(1)\n",
    "print(\"Custom computation takes %0.9f units using numba @vectorize\" % time_vectorize)"
   ]
  },
  {
   "cell_type": "code",
   "execution_count": null,
   "metadata": {
    "tags": []
   },
   "outputs": [],
   "source": [
    "f.types"
   ]
  },
  {
   "cell_type": "markdown",
   "metadata": {},
   "source": [
    "## There are certain benefits that numba @vectorize decorated functions enjoy automatically ..."
   ]
  },
  {
   "cell_type": "markdown",
   "metadata": {},
   "source": [
    ".reduce() - applies user-defined f() along an array axis which reduces array dimension by 1. More info - https://numpy.org/doc/stable/reference/generated/numpy.ufunc.reduce.html#numpy.ufunc.reduce\n",
    "\n",
    ".accumulate() - accumulates results of f() along an array axis. More info - https://numpy.org/doc/stable/reference/generated/numpy.ufunc.accumulate.html#numpy.ufunc.accumulate\n",
    "\n",
    "Additional benefits - https://numpy.org/doc/stable/reference/ufuncs.html#ufunc"
   ]
  },
  {
   "cell_type": "code",
   "execution_count": null,
   "metadata": {},
   "outputs": [],
   "source": [
    "from numba import vectorize, float64, int32, int64, float32\n",
    "\n",
    "@vectorize([int32(int32, int32),\n",
    "            int64(int64, int64),\n",
    "            float32(float32, float32),\n",
    "            float64(float64, float64)])\n",
    "def f(x, y):\n",
    "    return x + y\n",
    "\n",
    "\n",
    "A = np.arange(12).reshape(3, 4)\n",
    "print(A, A.shape, \"\\n-----\")\n",
    "\n",
    "a = f.reduce(A, axis=0, keepdims=True)\n",
    "print(a, a.shape, \"\\n-----\")\n",
    "\n",
    "b = f.reduce(A, axis=1, keepdims=True)\n",
    "print(b, b.shape, \"\\n-----\")\n",
    "\n",
    "c = f.accumulate(A) # axis=0 by default\n",
    "print(c, c.shape, \"\\n-----\")\n",
    "\n",
    "d = f.accumulate(A, axis=1)\n",
    "print(d, d.shape, \"\\n-----\")"
   ]
  },
  {
   "cell_type": "code",
   "execution_count": null,
   "metadata": {},
   "outputs": [],
   "source": [
    "f.types"
   ]
  },
  {
   "cell_type": "code",
   "execution_count": null,
   "metadata": {},
   "outputs": [],
   "source": []
  }
 ],
 "metadata": {
  "kernelspec": {
   "display_name": "Python 3 (ipykernel)",
   "language": "python",
   "name": "python3"
  },
  "language_info": {
   "codemirror_mode": {
    "name": "ipython",
    "version": 3
   },
   "file_extension": ".py",
   "mimetype": "text/x-python",
   "name": "python",
   "nbconvert_exporter": "python",
   "pygments_lexer": "ipython3",
   "version": "3.12.4"
  },
  "vscode": {
   "interpreter": {
    "hash": "353902f3f2f769574ee6d5e609f500cb3c8385ac61494244183cc0b6ad3e28b3"
   }
  }
 },
 "nbformat": 4,
 "nbformat_minor": 4
}
