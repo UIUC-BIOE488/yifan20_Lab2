{
 "cells": [
  {
   "cell_type": "markdown",
   "metadata": {},
   "source": [
    "# Vectorization in Python"
   ]
  },
  {
   "cell_type": "code",
   "execution_count": 1,
   "metadata": {},
   "outputs": [
    {
     "name": "stdout",
     "output_type": "stream",
     "text": [
      "Collecting numba\n",
      "  Downloading numba-0.60.0-cp312-cp312-manylinux2014_x86_64.manylinux_2_17_x86_64.whl.metadata (2.7 kB)\n",
      "Collecting llvmlite<0.44,>=0.43.0dev0 (from numba)\n",
      "  Downloading llvmlite-0.43.0-cp312-cp312-manylinux_2_17_x86_64.manylinux2014_x86_64.whl.metadata (4.8 kB)\n",
      "Collecting numpy<2.1,>=1.22 (from numba)\n",
      "  Downloading numpy-2.0.2-cp312-cp312-manylinux_2_17_x86_64.manylinux2014_x86_64.whl.metadata (60 kB)\n",
      "Downloading numba-0.60.0-cp312-cp312-manylinux2014_x86_64.manylinux_2_17_x86_64.whl (3.8 MB)\n",
      "\u001b[2K   \u001b[90m━━━━━━━━━━━━━━━━━━━━━━━━━━━━━━━━━━━━━━━━\u001b[0m \u001b[32m3.8/3.8 MB\u001b[0m \u001b[31m18.0 MB/s\u001b[0m eta \u001b[36m0:00:00\u001b[0m00:01\u001b[0m\n",
      "\u001b[?25hDownloading llvmlite-0.43.0-cp312-cp312-manylinux_2_17_x86_64.manylinux2014_x86_64.whl (43.9 MB)\n",
      "\u001b[2K   \u001b[90m━━━━━━━━━━━━━━━━━━━━━━━━━━━━━━━━━━━━━━━━\u001b[0m \u001b[32m43.9/43.9 MB\u001b[0m \u001b[31m52.1 MB/s\u001b[0m eta \u001b[36m0:00:00\u001b[0m00:01\u001b[0m00:01\u001b[0m\n",
      "\u001b[?25hDownloading numpy-2.0.2-cp312-cp312-manylinux_2_17_x86_64.manylinux2014_x86_64.whl (19.2 MB)\n",
      "\u001b[2K   \u001b[90m━━━━━━━━━━━━━━━━━━━━━━━━━━━━━━━━━━━━━━━━\u001b[0m \u001b[32m19.2/19.2 MB\u001b[0m \u001b[31m48.2 MB/s\u001b[0m eta \u001b[36m0:00:00\u001b[0ma \u001b[36m0:00:01\u001b[0m\n",
      "\u001b[?25hInstalling collected packages: numpy, llvmlite, numba\n",
      "  Attempting uninstall: numpy\n",
      "    Found existing installation: numpy 2.1.1\n",
      "    Uninstalling numpy-2.1.1:\n",
      "      Successfully uninstalled numpy-2.1.1\n",
      "Successfully installed llvmlite-0.43.0 numba-0.60.0 numpy-2.0.2\n"
     ]
    }
   ],
   "source": [
    "## Need to install numba, after install restart kernel\n",
    "!pip install numba"
   ]
  },
  {
   "cell_type": "code",
   "execution_count": 2,
   "metadata": {
    "tags": []
   },
   "outputs": [],
   "source": [
    "import numpy as np\n",
    "import time\n",
    "from timeit import Timer"
   ]
  },
  {
   "cell_type": "code",
   "execution_count": 3,
   "metadata": {},
   "outputs": [
    {
     "data": {
      "text/plain": [
       "'2.0.2'"
      ]
     },
     "execution_count": 3,
     "metadata": {},
     "output_type": "execute_result"
    }
   ],
   "source": [
    "np.__version__"
   ]
  },
  {
   "cell_type": "code",
   "execution_count": 4,
   "metadata": {
    "tags": []
   },
   "outputs": [
    {
     "name": "stdout",
     "output_type": "stream",
     "text": [
      "[107, 3, 33, 133, 113, 73, 199, 73, 181, 27]\n"
     ]
    }
   ],
   "source": [
    "my_list = [53, 1, 16, 66, 56, 36, 99, 36, 90, 13]\n",
    "\n",
    "result = []\n",
    "for number in my_list:\n",
    "    result.append(number * 2 + 1)\n",
    "\n",
    "\n",
    "print(result)"
   ]
  },
  {
   "cell_type": "markdown",
   "metadata": {},
   "source": [
    "Above is the simpliest way to multiply every number in a list by 2 and then plus 1: the for loop. At this point, you should be very familiar with the for loop. You can use it to iterate over items in a list or to count to a specific number. The abstraction of a for loop is iteration: applying the same computation repeatedly with some variable values."
   ]
  },
  {
   "cell_type": "code",
   "execution_count": 5,
   "metadata": {
    "tags": []
   },
   "outputs": [
    {
     "name": "stdout",
     "output_type": "stream",
     "text": [
      "0.0\n",
      "1.5\n",
      "1.0\n",
      "4.5\n",
      "5.0\n",
      "5.5\n",
      "6.0\n",
      "6.5\n",
      "7.0\n",
      "7.5\n"
     ]
    }
   ],
   "source": [
    "for i in range(10):\n",
    "\n",
    "    my_number = 3 % (i + 1) + i / 2\n",
    "    print(my_number)"
   ]
  },
  {
   "cell_type": "markdown",
   "metadata": {},
   "source": [
    "While it is simple to understand, iteration might not be the most efficient model for repeating computation in some cases. Iteration is serialized: the CPU processes the iterations one after the other. In some cases where the calculation of an item depends on the result of calculation of previous items, the wait is necessary. However, in other cases, like the one in the first cell, the computation in each iteration is independent."
   ]
  },
  {
   "cell_type": "markdown",
   "metadata": {},
   "source": [
    "## Vectorization"
   ]
  },
  {
   "cell_type": "markdown",
   "metadata": {},
   "source": [
    "Vectorization is the abstraction of applying the same instructions to multiple data entries. Because applying the same instruction on multiple data entries is such a common pattern, modern computers are highly optimized for this operation from low-level hardware (CPU architecture and memory) to high-level programming language (e.g. Python, Numpy). When writing a for loop, we are restricting the potential of these optimizations by forcing these repeated computations to be performed one by one, serialized in time.\n",
    "\n",
    "![Vectorization](./resources/vectorization.png)\n",
    "\n",
    "\n",
    "In compiled language like C, the compiler can often detect the unnecessary serialization and compile a for loop into vectorized machine code. Python, however, is a dynamically interpreted language, and such compiler optimizations are unfeasible."
   ]
  },
  {
   "cell_type": "markdown",
   "metadata": {},
   "source": [
    "Numpy arrays are optimized for vectorized calculations: let's see the performance difference in action:"
   ]
  },
  {
   "cell_type": "markdown",
   "metadata": {},
   "source": [
    "### Example - Adding a constant value to every element of array"
   ]
  },
  {
   "cell_type": "code",
   "execution_count": 6,
   "metadata": {
    "tags": []
   },
   "outputs": [
    {
     "name": "stdout",
     "output_type": "stream",
     "text": [
      "Computation time is 0.360891372 using for-loop\n",
      "Computation time is 0.001921935 using vectorization\n"
     ]
    }
   ],
   "source": [
    "import numpy as np\n",
    " \n",
    "# Creating a large array of size 10**6\n",
    "array = np.random.randint(1000, size=10**6)\n",
    " \n",
    "# method that adds elements using for loop\n",
    "def add_forloop():\n",
    "    new_array = [element + 1 for element in array]\n",
    "\n",
    "# method that adds elements using vectorization\n",
    "def add_vectorized():\n",
    "    new_array = array + 1\n",
    "    \n",
    "# Finding execution time using timeit\n",
    "computation_time_forloop = Timer(add_forloop).timeit(1)\n",
    "computation_time_vectorized = Timer(add_vectorized).timeit(1)\n",
    " \n",
    "print(\"Computation time is %0.9f using for-loop\" % computation_time_forloop)\n",
    "print(\"Computation time is %0.9f using vectorization\" % computation_time_vectorized)"
   ]
  },
  {
   "cell_type": "markdown",
   "metadata": {},
   "source": [
    "### Another example"
   ]
  },
  {
   "cell_type": "code",
   "execution_count": 7,
   "metadata": {
    "tags": []
   },
   "outputs": [
    {
     "name": "stdout",
     "output_type": "stream",
     "text": [
      "--- List Addition 0.1866612434387207 seconds ---\n",
      "--- NumPy Addition 0.0010340213775634766 seconds ---\n"
     ]
    }
   ],
   "source": [
    "import numpy as np\n",
    "import time\n",
    "\n",
    "# Using Python lists\n",
    "def list_addition(a, b):\n",
    "    return [a_i + b_i for a_i, b_i in zip(a, b)]\n",
    "\n",
    "# Using NumPy\n",
    "def numpy_addition(a, b):\n",
    "    return a + b\n",
    "\n",
    "a = [i for i in range(1000000)]\n",
    "b = [i for i in range(1000000)]\n",
    "\n",
    "# Convert lists to NumPy arrays\n",
    "a_np = np.array(a)\n",
    "b_np = np.array(b)\n",
    "\n",
    "# Measure performance\n",
    "start_time = time.time()\n",
    "list_addition(a, b)\n",
    "print(\"--- List Addition %s seconds ---\" % (time.time() - start_time))\n",
    "\n",
    "start_time = time.time()\n",
    "numpy_addition(a_np, b_np)\n",
    "print(\"--- NumPy Addition %s seconds ---\" % (time.time() - start_time))"
   ]
  },
  {
   "cell_type": "markdown",
   "metadata": {},
   "source": [
    "### Example - Computing a dot product of two vectors"
   ]
  },
  {
   "cell_type": "code",
   "execution_count": 8,
   "metadata": {
    "tags": []
   },
   "outputs": [
    {
     "name": "stdout",
     "output_type": "stream",
     "text": [
      "Finding dot product takes 0.061737283 units using for loop\n",
      "Finding dot product takes 0.000099160 units using vectorization\n"
     ]
    }
   ],
   "source": [
    "import numpy as np\n",
    "from timeit import Timer\n",
    "\n",
    "# Create 2 vectors of same length\n",
    "length = 100000\n",
    "vector1 = np.random.randint(1000, size=length)\n",
    "vector2 = np.random.randint(1000, size=length)\n",
    "\n",
    "# Finds dot product of vectors using for loop\n",
    "def dotproduct_forloop(vector1, vector2, length):\n",
    "    dot = 0.0\n",
    "    for i in range(length):\n",
    "        dot += vector1[i] * vector2[i]\n",
    "    return dot\n",
    "        \n",
    "# Finds dot product of vectors using numpy vectorization\n",
    "def dotproduct_vectorize(vector1, vector2):\n",
    "    dot = np.dot(vector1, vector2)\n",
    "    return dot\n",
    "\n",
    "# Finding execution time using timeit - lambda needed for wrapping function\n",
    "# https://stackoverflow.com/questions/54135771/timeit-valueerror-stmt-is-neither-a-string-nor-callable\n",
    "time_forloop = Timer(lambda: dotproduct_forloop(vector1, vector2, length)).timeit(1)\n",
    "time_vectorize = Timer(lambda: dotproduct_vectorize(vector1, vector2)).timeit(1)\n",
    "\n",
    "print(\"Finding dot product takes %0.9f units using for loop\" % time_forloop)\n",
    "print(\"Finding dot product takes %0.9f units using vectorization\" % time_vectorize)"
   ]
  },
  {
   "cell_type": "markdown",
   "metadata": {},
   "source": [
    "### **Task**: Compute matrix multiplication"
   ]
  },
  {
   "cell_type": "code",
   "execution_count": 13,
   "metadata": {
    "tags": []
   },
   "outputs": [
    {
     "name": "stdout",
     "output_type": "stream",
     "text": [
      "vectorized result [12.91735546 12.00837109 13.47974093 12.82346749 12.26896242 11.87865065\n",
      " 13.46527197 11.46506448 10.88678323 11.61852342 11.08236977 14.40675096\n",
      " 13.585907   10.92691233 10.93453037  9.4281246  13.70046326 15.70036832\n",
      " 12.41269106 13.9780008  14.31585228 11.6510847  13.40082777 11.09066688\n",
      "  9.7933096  14.61094587 12.43120808 11.57682716 11.04287062 10.9504994\n",
      " 12.92645867 13.71603887 13.94775953 11.93702022 10.78109746 13.21366254\n",
      " 10.44268737 14.2707775  13.4540118  13.42809732  8.79686682 10.38236239\n",
      " 12.57279341 14.69005513 12.93965856 12.4513991  11.55658725 10.15214712\n",
      " 10.90085536 12.12834178]\n",
      "Matrix multiplication takes 0.002966387 units using for loop\n",
      "Matrix multiplication takes 0.000444971 units using vectorization\n"
     ]
    }
   ],
   "source": [
    "A = np.random.rand(50,50)\n",
    "B = np.random.rand(50,50)\n",
    "\n",
    "# sanity check code using identity matrix\n",
    "# A = np.eye(50)\n",
    "# B = np.eye(50)\n",
    "\n",
    "length = 50\n",
    "\n",
    "# hint: dot products written above are useful!\n",
    "def matrixmultiply_forloop(A, B):\n",
    "    rows_A = len(A)\n",
    "    cols_B = len(B[0])\n",
    "    C = np.zeros((rows_A, cols_B))\n",
    "    for i in range(rows_A):\n",
    "        for j in range(cols_B):\n",
    "            row = A[i]\n",
    "            col = B[:, j]\n",
    "            C[i][j] = np.dot(row, col)\n",
    "    return C\n",
    "\n",
    "def matrixmultiply_vectorize(A, B):\n",
    "    A = np.array(A)\n",
    "    B = np.array(B)\n",
    "    C = np.matmul(A,B)\n",
    "    print(\"vectorized result\", np.diag(C))\n",
    "    return C\n",
    "\n",
    "# Finding execution time using timeit\n",
    "time_forloop = Timer(lambda: matrixmultiply_forloop(A, B)).timeit(1)\n",
    "time_vectorize = Timer(lambda: matrixmultiply_vectorize(A, B)).timeit(1)\n",
    "\n",
    "print(\"Matrix multiplication takes %0.9f units using for loop\" % time_forloop)\n",
    "print(\"Matrix multiplication takes %0.9f units using vectorization\" % time_vectorize)"
   ]
  },
  {
   "cell_type": "markdown",
   "metadata": {},
   "source": [
    "### Example - Count the number of elements less than K in the array"
   ]
  },
  {
   "cell_type": "code",
   "execution_count": 14,
   "metadata": {
    "tags": []
   },
   "outputs": [
    {
     "name": "stdout",
     "output_type": "stream",
     "text": [
      "for loop result 10\n",
      "vectorized result 10\n",
      "Finding < k takes 0.000294561 units using for loop\n",
      "Finding < k takes 0.000076980 units using vectorization\n"
     ]
    }
   ],
   "source": [
    "# trying changing the scale of X to make the difference due to vectorization more apparent\n",
    "# X = np.arange(20)\n",
    "X = np.arange(2000)\n",
    "# X = np.arange(200000)\n",
    "\n",
    "def lessthank_forloop(k=10):\n",
    "    count = 0\n",
    "    for i in range(len(X)):\n",
    "        if X[i] < k:\n",
    "            count = count + 1\n",
    "    print(\"for loop result\", count)\n",
    "    return count\n",
    "\n",
    "def lessthank_vectorize(k=10):\n",
    "    num_lessthan_k = np.count_nonzero((X < k))\n",
    "    print(\"vectorized result\", num_lessthan_k)\n",
    "    return num_lessthan_k\n",
    "\n",
    "# Finding execution time using timeit\n",
    "time_forloop = Timer(lessthank_forloop).timeit(1)\n",
    "time_vectorize = Timer(lessthank_vectorize).timeit(1)\n",
    "\n",
    "print(\"Finding < k takes %0.9f units using for loop\" % time_forloop)\n",
    "print(\"Finding < k takes %0.9f units using vectorization\" % time_vectorize)"
   ]
  },
  {
   "cell_type": "markdown",
   "metadata": {},
   "source": [
    "### Example, vectorize using numba JIT compiler"
   ]
  },
  {
   "cell_type": "code",
   "execution_count": 15,
   "metadata": {
    "tags": []
   },
   "outputs": [],
   "source": [
    "## Simple loop\n",
    "def sum_of_squares(n=1e7):\n",
    "    total = 0\n",
    "    for i in range(int(n)):\n",
    "        total += i**2\n",
    "    return total"
   ]
  },
  {
   "cell_type": "code",
   "execution_count": 16,
   "metadata": {
    "tags": []
   },
   "outputs": [],
   "source": [
    "from numba import jit\n",
    "\n",
    "@jit(nopython=True)\n",
    "def sum_of_squares_numba(n=1e7):\n",
    "    total = 0\n",
    "    for i in range(int(n)):\n",
    "        total += i**2\n",
    "    return total"
   ]
  },
  {
   "cell_type": "code",
   "execution_count": 17,
   "metadata": {
    "tags": []
   },
   "outputs": [
    {
     "name": "stdout",
     "output_type": "stream",
     "text": [
      "Without Numba: 2.377665081061423\n",
      "With Numba: 0.9758087149821222\n"
     ]
    }
   ],
   "source": [
    "# Finding execution time using timeit\n",
    "time_forloop = Timer(sum_of_squares).timeit(1)\n",
    "time_vectorize = Timer(sum_of_squares_numba).timeit(1)\n",
    "\n",
    "print(\"Without Numba: {}\".format(time_forloop))\n",
    "print(\"With Numba: {}\".format(time_vectorize))"
   ]
  },
  {
   "cell_type": "markdown",
   "metadata": {},
   "source": [
    "# How do we vectorize a function if the computation we want is more complicated and not already available in numpy? Use Numba @vectorize decorators!"
   ]
  },
  {
   "cell_type": "markdown",
   "metadata": {},
   "source": [
    "## But first: What are python \"decorators\"?"
   ]
  },
  {
   "cell_type": "markdown",
   "metadata": {},
   "source": [
    "A decorator is a function that takes another function and extends the behavior of the latter function without explicitly modifying it."
   ]
  },
  {
   "cell_type": "markdown",
   "metadata": {},
   "source": [
    "Example - smart_divide() decorator function checks whether the inputs to divide() are safe or not"
   ]
  },
  {
   "cell_type": "code",
   "execution_count": 18,
   "metadata": {
    "tags": []
   },
   "outputs": [],
   "source": [
    "def smart_divide(func):\n",
    "    def inner(a,b):\n",
    "        print(\"Inside decorator: I am going to divide {} and {}\".format(a,b))\n",
    "        if b == 0:\n",
    "            print(\"Inside decorator: Whoops! cannot divide by 0. Aborting\")\n",
    "            return\n",
    "        return func(a,b)\n",
    "    return inner"
   ]
  },
  {
   "cell_type": "code",
   "execution_count": 19,
   "metadata": {
    "tags": []
   },
   "outputs": [],
   "source": [
    "@smart_divide\n",
    "def divide_dec(a,b):\n",
    "    print(\"a/b = {}\".format(a/b))\n",
    "\n",
    "def divide(a,b):\n",
    "    print(\"a/b = {}\".format(a/b))"
   ]
  },
  {
   "cell_type": "code",
   "execution_count": 20,
   "metadata": {
    "tags": []
   },
   "outputs": [
    {
     "name": "stdout",
     "output_type": "stream",
     "text": [
      "a/b = 2.5\n"
     ]
    }
   ],
   "source": [
    "# If we run divide undecorated\n",
    "divide(5,2)"
   ]
  },
  {
   "cell_type": "code",
   "execution_count": 21,
   "metadata": {
    "tags": []
   },
   "outputs": [
    {
     "ename": "ZeroDivisionError",
     "evalue": "division by zero",
     "output_type": "error",
     "traceback": [
      "\u001b[0;31m---------------------------------------------------------------------------\u001b[0m",
      "\u001b[0;31mZeroDivisionError\u001b[0m                         Traceback (most recent call last)",
      "Cell \u001b[0;32mIn[21], line 2\u001b[0m\n\u001b[1;32m      1\u001b[0m \u001b[38;5;66;03m# divide by 0\u001b[39;00m\n\u001b[0;32m----> 2\u001b[0m \u001b[43mdivide\u001b[49m\u001b[43m(\u001b[49m\u001b[38;5;241;43m5\u001b[39;49m\u001b[43m,\u001b[49m\u001b[38;5;241;43m0\u001b[39;49m\u001b[43m)\u001b[49m\n",
      "Cell \u001b[0;32mIn[19], line 6\u001b[0m, in \u001b[0;36mdivide\u001b[0;34m(a, b)\u001b[0m\n\u001b[1;32m      5\u001b[0m \u001b[38;5;28;01mdef\u001b[39;00m \u001b[38;5;21mdivide\u001b[39m(a,b):\n\u001b[0;32m----> 6\u001b[0m     \u001b[38;5;28mprint\u001b[39m(\u001b[38;5;124m\"\u001b[39m\u001b[38;5;124ma/b = \u001b[39m\u001b[38;5;132;01m{}\u001b[39;00m\u001b[38;5;124m\"\u001b[39m\u001b[38;5;241m.\u001b[39mformat(\u001b[43ma\u001b[49m\u001b[38;5;241;43m/\u001b[39;49m\u001b[43mb\u001b[49m))\n",
      "\u001b[0;31mZeroDivisionError\u001b[0m: division by zero"
     ]
    }
   ],
   "source": [
    "# divide by 0\n",
    "divide(5,0)"
   ]
  },
  {
   "cell_type": "code",
   "execution_count": null,
   "metadata": {
    "tags": []
   },
   "outputs": [],
   "source": [
    "# Using decoratored function\n",
    "divide_dec(5,2)"
   ]
  },
  {
   "cell_type": "code",
   "execution_count": 22,
   "metadata": {
    "tags": []
   },
   "outputs": [
    {
     "name": "stdout",
     "output_type": "stream",
     "text": [
      "Inside decorator: I am going to divide 5 and 0\n",
      "Inside decorator: Whoops! cannot divide by 0. Aborting\n"
     ]
    }
   ],
   "source": [
    "# Using decoratored function, try divide by 0\n",
    "divide_dec(5,0)"
   ]
  },
  {
   "cell_type": "markdown",
   "metadata": {},
   "source": [
    "Source: https://www.programiz.com/python-programming/decorator"
   ]
  },
  {
   "cell_type": "markdown",
   "metadata": {},
   "source": [
    "We need the inner(a,b) function inside smart_divide() since decorators must output a callable rather than a value. The idea of a decorator is to return a function you can call as needed, with enhanced functionality."
   ]
  },
  {
   "cell_type": "markdown",
   "metadata": {},
   "source": [
    "## **Task**: Decorator that times the execution of a function"
   ]
  },
  {
   "cell_type": "code",
   "execution_count": 29,
   "metadata": {
    "tags": []
   },
   "outputs": [],
   "source": [
    "## Complete the folliwing\n",
    "import time\n",
    "\n",
    "def timer(func):\n",
    "    def wrapper_timer():\n",
    "        start = time.time()\n",
    "        result = func()\n",
    "        end = time.time()\n",
    "        duration = end - start\n",
    "        print(\"Function took\", duration, \"s\")\n",
    "        return result\n",
    "    return wrapper_timer\n",
    "\n",
    "@timer\n",
    "def waste_some_time():\n",
    "    for _ in range(100):\n",
    "        sum([i**2 for i in range(10000)])\n"
   ]
  },
  {
   "cell_type": "code",
   "execution_count": 30,
   "metadata": {
    "tags": []
   },
   "outputs": [
    {
     "name": "stdout",
     "output_type": "stream",
     "text": [
      "Function took 0.08623099327087402 s\n"
     ]
    }
   ],
   "source": [
    "waste_some_time()"
   ]
  },
  {
   "cell_type": "markdown",
   "metadata": {},
   "source": [
    "## Numba @vectorize decorator - specify the element-wise operation and let Numba handle the vectorization\n",
    "\n",
    "Read [this numba @vectorize decorator tutorial](https://numba.readthedocs.io/en/stable/user/vectorize.html)"
   ]
  },
  {
   "cell_type": "markdown",
   "metadata": {},
   "source": [
    "### In essence: ...Using vectorize(), you write your function as operating over input scalars, rather than arrays. Numba will generate the surrounding loop (or kernel) allowing efficient iteration over the actual inputs...."
   ]
  },
  {
   "cell_type": "markdown",
   "metadata": {},
   "source": [
    "Let's say the computation our imaginary problem at hand needs is as follows:"
   ]
  },
  {
   "cell_type": "code",
   "execution_count": 31,
   "metadata": {
    "tags": []
   },
   "outputs": [
    {
     "name": "stdout",
     "output_type": "stream",
     "text": [
      "Custom computation takes 0.000080680 units using numba @vectorize\n"
     ]
    }
   ],
   "source": [
    "from numba import vectorize, float32, float64\n",
    "\n",
    "@vectorize([float32(float32, float32),\n",
    "            float64(float64, float64)])\n",
    "def f(x, y):\n",
    "    if x < 10:\n",
    "        return 2*np.log(y)\n",
    "    else:\n",
    "        return np.sqrt(1 + x*10)\n",
    "\n",
    "A = np.random.rand(30)\n",
    "B = np.random.rand(30)\n",
    "\n",
    "time_vectorize = Timer(lambda: f(A, B)).timeit(1)\n",
    "print(\"Custom computation takes %0.9f units using numba @vectorize\" % time_vectorize)"
   ]
  },
  {
   "cell_type": "code",
   "execution_count": 32,
   "metadata": {
    "tags": []
   },
   "outputs": [
    {
     "data": {
      "text/plain": [
       "['ff->f', 'dd->d']"
      ]
     },
     "execution_count": 32,
     "metadata": {},
     "output_type": "execute_result"
    }
   ],
   "source": [
    "f.types"
   ]
  },
  {
   "cell_type": "markdown",
   "metadata": {},
   "source": [
    "## There are certain benefits that numba @vectorize decorated functions enjoy automatically ..."
   ]
  },
  {
   "cell_type": "markdown",
   "metadata": {},
   "source": [
    ".reduce() - applies user-defined f() along an array axis which reduces array dimension by 1. More info - https://numpy.org/doc/stable/reference/generated/numpy.ufunc.reduce.html#numpy.ufunc.reduce\n",
    "\n",
    ".accumulate() - accumulates results of f() along an array axis. More info - https://numpy.org/doc/stable/reference/generated/numpy.ufunc.accumulate.html#numpy.ufunc.accumulate\n",
    "\n",
    "Additional benefits - https://numpy.org/doc/stable/reference/ufuncs.html#ufunc"
   ]
  },
  {
   "cell_type": "code",
   "execution_count": 33,
   "metadata": {},
   "outputs": [
    {
     "name": "stdout",
     "output_type": "stream",
     "text": [
      "[[ 0  1  2  3]\n",
      " [ 4  5  6  7]\n",
      " [ 8  9 10 11]] (3, 4) \n",
      "-----\n",
      "[[12 15 18 21]] (1, 4) \n",
      "-----\n",
      "[[ 6]\n",
      " [22]\n",
      " [38]] (3, 1) \n",
      "-----\n",
      "[[ 0  1  2  3]\n",
      " [ 4  6  8 10]\n",
      " [12 15 18 21]] (3, 4) \n",
      "-----\n",
      "[[ 0  1  3  6]\n",
      " [ 4  9 15 22]\n",
      " [ 8 17 27 38]] (3, 4) \n",
      "-----\n"
     ]
    }
   ],
   "source": [
    "from numba import vectorize, float64, int32, int64, float32\n",
    "\n",
    "@vectorize([int32(int32, int32),\n",
    "            int64(int64, int64),\n",
    "            float32(float32, float32),\n",
    "            float64(float64, float64)])\n",
    "def f(x, y):\n",
    "    return x + y\n",
    "\n",
    "\n",
    "A = np.arange(12).reshape(3, 4)\n",
    "print(A, A.shape, \"\\n-----\")\n",
    "\n",
    "a = f.reduce(A, axis=0, keepdims=True)\n",
    "print(a, a.shape, \"\\n-----\")\n",
    "\n",
    "b = f.reduce(A, axis=1, keepdims=True)\n",
    "print(b, b.shape, \"\\n-----\")\n",
    "\n",
    "c = f.accumulate(A) # axis=0 by default\n",
    "print(c, c.shape, \"\\n-----\")\n",
    "\n",
    "d = f.accumulate(A, axis=1)\n",
    "print(d, d.shape, \"\\n-----\")"
   ]
  },
  {
   "cell_type": "code",
   "execution_count": 34,
   "metadata": {},
   "outputs": [
    {
     "data": {
      "text/plain": [
       "['ii->i', 'll->l', 'ff->f', 'dd->d']"
      ]
     },
     "execution_count": 34,
     "metadata": {},
     "output_type": "execute_result"
    }
   ],
   "source": [
    "f.types"
   ]
  },
  {
   "cell_type": "code",
   "execution_count": null,
   "metadata": {},
   "outputs": [],
   "source": []
  }
 ],
 "metadata": {
  "kernelspec": {
   "display_name": "Python 3 (ipykernel)",
   "language": "python",
   "name": "python3"
  },
  "language_info": {
   "codemirror_mode": {
    "name": "ipython",
    "version": 3
   },
   "file_extension": ".py",
   "mimetype": "text/x-python",
   "name": "python",
   "nbconvert_exporter": "python",
   "pygments_lexer": "ipython3",
   "version": "3.12.4"
  },
  "vscode": {
   "interpreter": {
    "hash": "353902f3f2f769574ee6d5e609f500cb3c8385ac61494244183cc0b6ad3e28b3"
   }
  }
 },
 "nbformat": 4,
 "nbformat_minor": 4
}
